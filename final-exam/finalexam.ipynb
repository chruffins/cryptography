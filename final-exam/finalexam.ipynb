{
 "cells": [
  {
   "cell_type": "markdown",
   "metadata": {},
   "source": [
    "Q1. Adam uses Shamir's $(t,w)$-threshold scheme with $t=5$ and $w=10$ to share a key with 10 friends. The base is $p=31847$, and the public keys are $(413, 432, 451, 470, 489, 508, 527, 546, 565, 584)$.\n",
    "\n",
    "Also, the first five $f(x)$ are $(25439, 14847, 24780, 5910, 12734)$.\n",
    "\n",
    "Identify the key and the polynomial coefficients."
   ]
  },
  {
   "cell_type": "markdown",
   "metadata": {},
   "source": [
    "Recall that the polynomial is $(t-1)$ th degree. Rewrite the thing as a matrix and invert it."
   ]
  },
  {
   "cell_type": "code",
   "execution_count": 21,
   "metadata": {},
   "outputs": [
    {
     "data": {
      "text/plain": [
       "GF([31318, 11223,  3945,  7745,  9872], order=31847)"
      ]
     },
     "execution_count": 21,
     "metadata": {},
     "output_type": "execute_result"
    }
   ],
   "source": [
    "import numpy as np\n",
    "import galois\n",
    "\n",
    "p = 31847\n",
    "zp = galois.GF(p)\n",
    "x = zp([413, 432, 451, 470, 489])\n",
    "y = zp([25439, 14847, 24780, 5910, 12734])\n",
    "pows = np.array([0, 1, 2, 3, 4])\n",
    "\n",
    "xpowed = np.power(zp([x, x, x, x, x]).transpose(), pows)\n",
    "\n",
    "a = np.matmul(np.linalg.inv(xpowed), y)\n",
    "a\n"
   ]
  },
  {
   "cell_type": "markdown",
   "metadata": {},
   "source": [
    "A1. The key is $31318$ and the polynomial coefficients are $(11223, 3945, 7745, 9872)$."
   ]
  },
  {
   "cell_type": "markdown",
   "metadata": {},
   "source": [
    "Q2. Suppose Blom KPS for $k=2$ is set up for five users ABCDE with $p = 97, r_A = 14, r_B = 38, r_C = 92, r_D = 69, r_E = 70$. The secret polynomials given to each user are as follows:\n",
    "\n",
    "- $g_A(x) = 15 + 15x + 2x^2$\n",
    "- $g_B(x) = 95 + 77x + 83x^2$\n",
    "- $g_C(x) = 88 + 32x + 18x^2$\n",
    "- $g_D(x) = 62 + 91x + 59x^2$\n",
    "- $g_E(x) = 10 + 82x + 52x^2$\n",
    "\n",
    "Compute the key for all distinct pairs of users."
   ]
  },
  {
   "cell_type": "code",
   "execution_count": 13,
   "metadata": {},
   "outputs": [
    {
     "data": {
      "text/plain": [
       "[(('A', 'B'), 78),\n",
       " (('A', 'C'), 87),\n",
       " (('A', 'D'), 96),\n",
       " (('A', 'E'), 1),\n",
       " (('B', 'C'), 39),\n",
       " (('B', 'D'), 58),\n",
       " (('B', 'E'), 32),\n",
       " (('C', 'D'), 15),\n",
       " (('C', 'E'), 27),\n",
       " (('D', 'E'), 70)]"
      ]
     },
     "execution_count": 13,
     "metadata": {},
     "output_type": "execute_result"
    }
   ],
   "source": [
    "from itertools import combinations, permutations\n",
    "\n",
    "user_pairs = list(combinations(['A', 'B', 'C', 'D', 'E'], 2))\n",
    "blom_keys = list()\n",
    "\n",
    "p = 97\n",
    "k = 2\n",
    "r = [14, 38, 92, 69, 70]\n",
    "\n",
    "letter_map = {'A': 0, 'B': 1, 'C': 2, 'D': 3, 'E': 4}\n",
    "\n",
    "polynomials = [\n",
    "    [15, 15, 2],\n",
    "    [95, 77, 83],\n",
    "    [88, 32, 18],\n",
    "    [62, 91, 59],\n",
    "    [10, 82, 52]\n",
    "]\n",
    "\n",
    "def compute_polynomial(coeffs: list[int | float], x) -> int | float:\n",
    "    result = 0\n",
    "    for i, coeff in enumerate(coeffs):\n",
    "        result += coeff * (x**i)\n",
    "    return result\n",
    "\n",
    "for u, v in user_pairs:\n",
    "    blom_keys.append(compute_polynomial(polynomials[letter_map[u]], r[letter_map[v]]) % p)\n",
    "\n",
    "list(zip(user_pairs, blom_keys))"
   ]
  },
  {
   "cell_type": "markdown",
   "metadata": {},
   "source": [
    "A2.\n",
    "\n",
    "- AB: 78\n",
    "- AC: 87\n",
    "- AD: 96\n",
    "- AE: 1\n",
    "- BC: 39\n",
    "- BD: 58\n",
    "- BE: 32\n",
    "- CD: 15\n",
    "- CE: 27\n",
    "- DE: 70"
   ]
  },
  {
   "cell_type": "markdown",
   "metadata": {},
   "source": [
    "Q3. Solve for $x$ such that $13x \\equiv 4 \\mod 99$ and $15x \\equiv 56 \\mod 101$"
   ]
  },
  {
   "cell_type": "code",
   "execution_count": 12,
   "metadata": {},
   "outputs": [
    {
     "data": {
      "text/plain": [
       "(7471, 46, 98, 4, 56)"
      ]
     },
     "execution_count": 12,
     "metadata": {},
     "output_type": "execute_result"
    }
   ],
   "source": [
    "def extended_gcd(a, b):\n",
    "    if a == 0:\n",
    "        return b, 0, 1\n",
    "    else:\n",
    "        g, x, y = extended_gcd(b % a, a)\n",
    "        return int(g), int(y - (b // a) * x), int(x)\n",
    "\n",
    "_, x1, _ = extended_gcd(13, 99)\n",
    "x1 = x1 % 99\n",
    "a1 = (x1 * 4) % 99\n",
    "\n",
    "_, x2, _ = extended_gcd(15, 101)\n",
    "x2 = x2 % 101\n",
    "a2 = (x2 * 56) % 101\n",
    "\n",
    "a = [a1, a2]\n",
    "n = [99, 101]\n",
    "M = 99 * 101\n",
    "\n",
    "x = 0\n",
    "for ai, ni in zip(a, n):\n",
    "    mi = M // ni\n",
    "    si = extended_gcd(ni, mi)[2]\n",
    "    x += (ai * si * mi)\n",
    "x = x % M\n",
    "x, x % 99, x % 101, (a1 * 13) % 99, (a2 * 15) % 101\n",
    "\n"
   ]
  },
  {
   "cell_type": "markdown",
   "metadata": {},
   "source": [
    "A3. \n",
    "\n",
    "- $x \\equiv 4 \\times 13^{-1} \\mod 99 \\implies x \\equiv 46 \\mod 99$\n",
    "- $x \\equiv 56 \\times 15^{-1} \\mod 101 \\implies x \\equiv 98 \\mod 101$\n",
    "- $x = 7471$"
   ]
  },
  {
   "cell_type": "markdown",
   "metadata": {},
   "source": [
    "Q4. Suppose that we are working with the SPN in slide 5 of Block Cipher Notes, and that the S-box is defined. Calculate "
   ]
  },
  {
   "cell_type": "code",
   "execution_count": 30,
   "metadata": {},
   "outputs": [
    {
     "data": {
      "text/plain": [
       "array([[16,  0,  0,  0,  0,  0,  0,  0,  0,  0,  0,  0,  0,  0,  0,  0],\n",
       "       [ 0,  0,  2,  0,  4,  0,  2,  0,  0,  0,  0,  2,  4,  0,  0,  2],\n",
       "       [ 0,  2,  0,  0,  0,  0,  0,  2,  0,  0,  2,  0,  0,  2,  2,  6],\n",
       "       [ 0,  2,  0,  4,  0,  2,  0,  0,  0,  2,  0,  4,  0,  2,  0,  0],\n",
       "       [ 0,  4,  2,  2,  0,  2,  0,  2,  2,  0,  0,  2,  0,  0,  0,  0],\n",
       "       [ 0,  0,  0,  4,  0,  0,  0,  4,  0,  0,  0,  0,  2,  2,  2,  2],\n",
       "       [ 0,  0,  0,  0,  2,  0,  2,  0,  2,  0,  2,  0,  2,  2,  2,  2],\n",
       "       [ 0,  0,  4,  2,  2,  0,  0,  0,  4,  2,  0,  0,  0,  0,  2,  0],\n",
       "       [ 0,  2,  0,  0,  2,  4,  2,  2,  0,  2,  0,  0,  0,  2,  0,  0],\n",
       "       [ 0,  6,  0,  0,  0,  0,  2,  0,  0,  0,  2,  4,  0,  2,  0,  0],\n",
       "       [ 0,  0,  2,  0,  0,  0,  0,  2,  4,  0,  4,  2,  0,  0,  2,  0],\n",
       "       [ 0,  0,  0,  0,  2,  2,  2,  2,  0,  0,  0,  0,  4,  0,  4,  0],\n",
       "       [ 0,  0,  2,  0,  0,  2,  4,  0,  2,  0,  0,  0,  2,  2,  2,  0],\n",
       "       [ 0,  0,  2,  2,  2,  0,  2,  0,  0,  2,  6,  0,  0,  0,  0,  0],\n",
       "       [ 0,  0,  2,  2,  0,  0,  0,  0,  2,  6,  0,  0,  0,  0,  0,  4],\n",
       "       [ 0,  0,  0,  0,  2,  4,  0,  2,  0,  2,  0,  2,  2,  2,  0,  0]],\n",
       "      dtype=uint8)"
      ]
     },
     "execution_count": 30,
     "metadata": {},
     "output_type": "execute_result"
    }
   ],
   "source": [
    "q4_sbox = {\n",
    "    0x0: 0xE, 0x1: 0x2, 0x2: 0x1, 0x3: 0x3,\n",
    "    0x4: 0xD, 0x5: 0x9, 0x6: 0x0, 0x7: 0x6,\n",
    "    0x8: 0xF, 0x9: 0x4, 0xA: 0x5, 0xB: 0xA,\n",
    "    0xC: 0x8, 0xD: 0xC, 0xE: 0x7, 0xF: 0xB\n",
    "}\n",
    "\n",
    "slides_sbox = {\n",
    "    0x0: 0xE, 0x1: 0x4, 0x2: 0xD, 0x3: 0x1,\n",
    "    0x4: 0x2, 0x5: 0xF, 0x6: 0xB, 0x7: 0x8,\n",
    "    0x8: 0x3, 0x9: 0xA, 0xA: 0x6, 0xB: 0xC,\n",
    "    0xC: 0x5, 0xD: 0x9, 0xE: 0x0, 0xF: 0x7\n",
    "}\n",
    "\n",
    "\"\"\"\n",
    "def get_lin_approx_table(s_box: dict[int, int]):\n",
    "    lin_approx = np.zeros((16, 16), dtype=np.uint8)\n",
    "    for a in range(16):\n",
    "        for b in range(16):\n",
    "            for x in range(16):\n",
    "                # xor a_i*x_i\n",
    "                if (((a & x) ^ (b & s_box[x]))).bit_count() % 2 == 0:\n",
    "                    lin_approx[a, b] += 1\n",
    "    \n",
    "    return lin_approx\n",
    "\"\"\"\n",
    "\n",
    "def get_diff_approx_table(sbox: dict[int, int]) -> np.ndarray:\n",
    "    diff_approx = np.zeros((16, 16), dtype=np.uint8)\n",
    "    for xp in range(16):\n",
    "        for yp in range(16):\n",
    "            for x in range(16):\n",
    "                for xstar in range(16):\n",
    "                    if x ^ xstar == xp and sbox[x] ^ sbox[xstar] == yp:\n",
    "                        diff_approx[xp, yp] += 1\n",
    "    return diff_approx\n",
    "\n",
    "dtable = get_diff_approx_table(q4_sbox)\n",
    "dtable\n",
    "#dtable[7,8]"
   ]
  },
  {
   "cell_type": "markdown",
   "metadata": {},
   "source": [
    "Q4b. Find a differential trail using 4 active S-boxes that has a propagation ratio of 27/2048. Use $S^1_1, S^1_4, S^2_4, S^3_4$."
   ]
  },
  {
   "cell_type": "markdown",
   "metadata": {},
   "source": [
    "A4b. The ratio is equal to $3^3 \\times 2 / 8^4$. \n",
    "\n",
    "The differential trail I got was $S^1_1$: $R_p(1001, 0001) = \\frac{3}{8}, S^1_4$: $R_p(1001, 0001) = \\frac{3}{8}, S^2_4$: $R_p(1001, 0001) = \\frac{3}{8}, S^3_4$: $R_p(0001, 1100) = \\frac{2}{8}$"
   ]
  },
  {
   "cell_type": "markdown",
   "metadata": {},
   "source": [
    "Q4c. Identify a differential attack that will identify 8 subkey bits."
   ]
  },
  {
   "cell_type": "markdown",
   "metadata": {},
   "source": [
    "A4c. \n",
    "\n",
    "Using the differential trail from 4b, the output of $S^3_4$ propagates to $u^4_1$ and $u^4_2$ which propagate to their respective Y blocks. So, we can backtrack from $y_{<1>}$ and $y_{<2>}$, determine which two 4-bit numbers cause $u^4$ to differ in y', which we determined to be 0x1100, and determine the 1st and 2nd blocks of the 5th subkey, which adds up to 8 bits. The Python function below follows the structure of Algorithm 4.3 but uses it for this differential trail.\n",
    "\n",
    "```py\n",
    "def differential_attack(pairs: list[tuple[int, int]], s_box_inv: dict[int, int]):\n",
    "    counts = np.zeros((16, 16), dtype=np.float64)\n",
    "\n",
    "    for x, y, xstar, ystar in pairs:\n",
    "        # S^3_4's output propagates to y<1> and y<2>...\n",
    "        if y >> 12 == ystar >> 12 and y >> 8 & 0b1111 == ystar >> 8 & 0b1111:\n",
    "            for l1 in range(16):\n",
    "                for l2 in range(16):\n",
    "                    yb1 = y >> 12\n",
    "                    yb2 = y >> 8 & 0xF\n",
    "                    ystarb1 = ystar >> 12\n",
    "                    ystarb2 = ystar >> 8 & 0xF\n",
    "\n",
    "                    v4b1 = l1 ^ yb1\n",
    "                    v4b2 = l2 ^ yb2\n",
    "                    u4b1 = s_box_inv[v4b1]\n",
    "                    u4b2 = s_box_inv[v4b2]\n",
    "                    v4b1star = l1 ^ ystarb1\n",
    "                    v4b2star = l2 ^ ystarb2\n",
    "                    u4b1star = s_box_inv[v4b1star]\n",
    "                    u4b2star = s_box_inv[v4b2star]\n",
    "                    u4b1prime = u4b1 ^ u4b1star\n",
    "                    u4b2prime = u4b2 ^ u4b2star\n",
    "\n",
    "                    if u4b1prime == 0x1 and u4b2prime == 0x1:\n",
    "                        counts[l1, l2] += 1\n",
    "    \n",
    "    maxie = -1\n",
    "    maxkey = None\n",
    "    for a in range(16):\n",
    "        for b in range(16):\n",
    "            counts[a, b] = abs(counts[a, b] - (len(pairs) / 2))\n",
    "\n",
    "            if counts[a, b] > maxie:\n",
    "                maxie = counts[a, b]\n",
    "                maxkey = (a,b)\n",
    "    return maxkey\n",
    "```"
   ]
  },
  {
   "cell_type": "markdown",
   "metadata": {},
   "source": [
    "Q5. Set up an ElGamal scheme with $p = 2579$ and $\\alpha = 2$. Suppose $a = 1249$ and $k = 179$. Compute $\\beta = \\alpha^a \\mod p$ and encode $x = 1458$ and $x = 458$."
   ]
  },
  {
   "cell_type": "code",
   "execution_count": 33,
   "metadata": {},
   "outputs": [
    {
     "data": {
      "text/plain": [
       "(1113, [(2029, 682), (2029, 239)])"
      ]
     },
     "execution_count": 33,
     "metadata": {},
     "output_type": "execute_result"
    }
   ],
   "source": [
    "from math import gcd\n",
    "\n",
    "def modpow(x: int, n: int, m: int) -> int:\n",
    "    if n == 0:\n",
    "        return 1\n",
    "\n",
    "    current = x\n",
    "    result = 1\n",
    "    while n > 0:\n",
    "        if (n & 1):\n",
    "            result = (result * current) % m\n",
    "        current = (current ** 2) % m\n",
    "        n = n >> 1\n",
    "\n",
    "    return result\n",
    "\n",
    "def elgamal_encrypt(x: int, alpha: int, beta: int, k: int, p: int) -> tuple[int, int]:\n",
    "    return (modpow(alpha, k, p), (x*modpow(beta, k, p)) % p)\n",
    "\n",
    "def elgamal_decrypt(y1: int, y2: int, a: int, p: int) -> int:\n",
    "    _, y1_inv, _ = extended_gcd(modpow(y1, a, p), p) # calculate the inverse of y1\n",
    "    return (y2 * y1_inv) % p\n",
    "\n",
    "p = 2579\n",
    "\n",
    "alpha = 2\n",
    "a = 1249\n",
    "k = 179\n",
    "beta = modpow(alpha, a, p)\n",
    "\n",
    "xs = [1458, 458]\n",
    "ys = list(map(lambda x: elgamal_encrypt(x, alpha, beta, k, p), xs))\n",
    "txs = list(map(lambda y: elgamal_decrypt(*y, a, p), ys))\n",
    "\n",
    "beta, ys"
   ]
  },
  {
   "cell_type": "markdown",
   "metadata": {},
   "source": [
    "A5. $\\beta = 1113$, $y_{1458} = (2029, 682)$, $y_{458} = (2029, 239)$"
   ]
  }
 ],
 "metadata": {
  "kernelspec": {
   "display_name": "Python 3 (ipykernel)",
   "language": "python",
   "name": "python3"
  },
  "language_info": {
   "codemirror_mode": {
    "name": "ipython",
    "version": 3
   },
   "file_extension": ".py",
   "mimetype": "text/x-python",
   "name": "python",
   "nbconvert_exporter": "python",
   "pygments_lexer": "ipython3",
   "version": "3.11.2"
  }
 },
 "nbformat": 4,
 "nbformat_minor": 2
}
