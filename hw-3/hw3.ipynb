{
 "cells": [
  {
   "cell_type": "markdown",
   "metadata": {},
   "source": [
    "Q1. Compute the following Jacobi symbols $(\\frac{1923}{3761})$ and $(\\frac{10002}{9765})$"
   ]
  },
  {
   "cell_type": "code",
   "execution_count": 18,
   "metadata": {},
   "outputs": [
    {
     "name": "stdout",
     "output_type": "stream",
     "text": [
      "(1923, 3761)\n",
      "(3761, 1923) rule 1\n",
      "(1838, 1923) rule 2\n",
      "(-919, 1923) rule 3\n",
      "(919, 1923) stored negative\n",
      "(-1923, 919) rule 1\n",
      "(1923, 919) stored negative\n",
      "(85, 919) rule 2\n",
      "(919, 85) rule 1\n",
      "(69, 85) rule 2\n",
      "(85, 69) rule 1\n",
      "(16, 69) rule 2\n",
      "1 rule 3\n",
      "1 final\n",
      "(10002, 9765)\n",
      "(237, 9765) rule 2\n",
      "(9765, 237) rule 1\n",
      "(48, 237) rule 2\n",
      "(3, 237) rule 3\n",
      "(237, 3) rule 1\n",
      "(0, 3) rule 2\n",
      "0 legendre\n",
      "0 final\n"
     ]
    }
   ],
   "source": [
    "def modpow(x: int, n: int, m: int) -> int:\n",
    "    if n == 0:\n",
    "        return 1\n",
    "\n",
    "    current = x\n",
    "    result = 1\n",
    "    while n > 0:\n",
    "        if (n & 1):\n",
    "            result = (result * current) % m\n",
    "        current = (current ** 2) % m\n",
    "        n = n >> 1\n",
    "\n",
    "    return result\n",
    "\n",
    "def legendre(a: int, p: int):\n",
    "    result = modpow(a, (p-1)//2, p)\n",
    "    if result == p - 1:\n",
    "        return -1\n",
    "    else:\n",
    "        return result\n",
    "\n",
    "def jr1(m: int, n: int) -> tuple[int, int]:\n",
    "    assert m % 2 == 1 and n % 2 == 1, \"This rule requires m and n be odd.\"\n",
    "    if m % 4 == n % 4 and m % 4 == 3:\n",
    "        return (-n, m)\n",
    "    else:\n",
    "        return (n, m)\n",
    "\n",
    "def jr2(m: int, n: int) -> tuple[int, int]:\n",
    "    assert n % 2 == 1, \"This rule requires n is odd.\"\n",
    "    return (m % n, n)\n",
    "\n",
    "def jr3(m: int, n: int) -> tuple[int, int]:\n",
    "    assert n % 2 == 1, \"This rule requires n is odd.\"\n",
    "\n",
    "    k = 0\n",
    "    while m & 1 == 0:\n",
    "        m >>= 1\n",
    "        k += 1\n",
    "\n",
    "    if m != 1:\n",
    "        return ((jr4(2, n) ** k) * m, n)\n",
    "    else:\n",
    "        return jr4(2, n) ** k\n",
    "\n",
    "def jr4(m: int, n: int) -> int:\n",
    "    assert m == 2, \"This rule requires m == 2.\"\n",
    "    assert n % 2 == 1, \"This rule requires n is odd.\"\n",
    "    if n % 8 == 1 or n % 8 == 7:\n",
    "        return 1\n",
    "    elif n % 8 == 3 or n % 8 == 5:\n",
    "        return -1\n",
    "    \n",
    "func_names = {\n",
    "    jr1: \"rule 1\",\n",
    "    jr2: \"rule 2\",\n",
    "    jr3: \"rule 3\",\n",
    "    jr4: \"rule 4\",\n",
    "    legendre: \"legendre\"\n",
    "}\n",
    "\n",
    "# i'm sure i could be writing an algorithm for this...\n",
    "def do_p1():\n",
    "    negative = False\n",
    "    p1funcs = [jr1, jr2, jr3, jr1, jr2, jr1, jr2, jr1, jr2, jr3]\n",
    "    p1 = (1923, 3761)\n",
    "    print(p1)\n",
    "    for func in p1funcs:\n",
    "        p1 = func(*p1)\n",
    "        print(p1, func_names[func])\n",
    "        if type(p1) == tuple and p1[0] < 0:\n",
    "            negative = not negative\n",
    "            p1 = (-p1[0], p1[1])\n",
    "            print(p1, \"stored negative\")\n",
    "        elif type(p1) == int:\n",
    "            p1 = (negative and -1 or 1) * p1\n",
    "            print(p1, \"final\")\n",
    "\n",
    "def do_p2():\n",
    "    negative = False\n",
    "    p2funcs = [jr2, jr1, jr2, jr3, jr1, jr2, legendre]\n",
    "    p2 = (10002, 9765)\n",
    "    print(p2)\n",
    "    for func in p2funcs:\n",
    "        p2 = func(*p2)\n",
    "        print(p2, func_names[func])\n",
    "        if type(p2) == tuple and p2[0] < 0:\n",
    "            negative = not negative\n",
    "            p2 = (-p2[0], p2[1])\n",
    "            print(p2, \"stored negative\")\n",
    "        elif type(p2) == int:\n",
    "            p2 = (negative and -1 or 1) * p2\n",
    "            print(p2, \"final\")\n",
    "\n",
    "do_p1()\n",
    "do_p2()"
   ]
  },
  {
   "cell_type": "markdown",
   "metadata": {},
   "source": [
    "A1.\n",
    "\n",
    "$(\\frac{1923}{3761}) \\implies (\\frac{3761}{1923}) \\implies (\\frac{1838}{ 1923}) \\implies (\\frac{2}{1923})(\\frac{919}{1923}) \\implies (\\frac{-919}{1923}) \\implies (\\frac{1004}{1923}) \\implies (\\frac{2}{1923})^2(\\frac{251}{1923}) \\implies (\\frac{251}{1923}) \\implies (\\frac{-1923}{251}) \\implies (\\frac{85}{251}) \\implies (\\frac{251}{85}) \\implies (\\frac{81}{85}) \\implies (\\frac{9}{85})^2 = 1$\n",
    "\n",
    "$(\\frac{10002}{9765}) \\implies (\\frac{237}{9765}) \\implies (\\frac{9765}{237}) \\implies (\\frac{48}{237}) \\implies (\\frac{2}{237})^4(\\frac{3}{237}) \\implies (\\frac{3}{237}) \\implies (\\frac{237}{3}) \\implies (\\frac{0}{3}) = 0$"
   ]
  },
  {
   "cell_type": "markdown",
   "metadata": {},
   "source": [
    "Q2. Devise an RSA scheme based on $p = 11279$ and $q = 11491$. Identify all parameters, choose any three plaintext numbers and encrypt and decrypt them."
   ]
  },
  {
   "cell_type": "code",
   "execution_count": 63,
   "metadata": {},
   "outputs": [
    {
     "name": "stdout",
     "output_type": "stream",
     "text": [
      "129606989 129584220\n"
     ]
    },
    {
     "data": {
      "text/plain": [
       "([7, 49, 343], [39152966, 89090032, 47873123], [7, 49, 343])"
      ]
     },
     "execution_count": 63,
     "metadata": {},
     "output_type": "execute_result"
    }
   ],
   "source": [
    "import random\n",
    "\n",
    "def extended_gcd(a, b):\n",
    "    if a == 0:\n",
    "        return b, 0, 1\n",
    "    else:\n",
    "        g, x, y = extended_gcd(b % a, a)\n",
    "        return int(g), int(y - (b // a) * x), int(x)\n",
    "\n",
    "p = 11279\n",
    "q = 11491\n",
    "n = p*q\n",
    "tot_n = (p-1) * (q-1)\n",
    "\n",
    "def rsa_encrypt(x: int, b: int, n: int):\n",
    "    return modpow(x, b, n)\n",
    "\n",
    "def rsa_decrypt(y: int, a: int, n: int):\n",
    "    return modpow(y, a, n)\n",
    "\n",
    "def generate_random_b(b: int, tot_n: int) -> tuple[int, int]:\n",
    "    b = 2\n",
    "    while extended_gcd(b, tot_n)[0] != 1:\n",
    "        b = random.randint(4, 50*int(tot_n ** 0.5))\n",
    "    _, a, _ = extended_gcd(b, tot_n)\n",
    "    return b, a\n",
    "\n",
    "# got these variables from doing generate_random_b\n",
    "b = 520381\n",
    "beta = 3007141\n",
    "\n",
    "xs = [7, 49, 343]\n",
    "ys = [rsa_encrypt(x, b, n) for x in xs]\n",
    "\n",
    "print(n, tot_n)\n",
    "xs, ys, [rsa_decrypt(y, beta, n) for y in ys]"
   ]
  },
  {
   "cell_type": "markdown",
   "metadata": {},
   "source": [
    "A2. Final parameters:\n",
    "\n",
    "- $n = 129606989$\n",
    "- $\\phi(n) = 129584220$\n",
    "- $b = 520381$\n",
    "- $a = 3007141$\n",
    "\n",
    "Results:\n",
    "\n",
    "- $e(7) = 7^{520381} \\text{ mod } 129606989 = 39152966$\n",
    "- $e(49) = 49^{520381} \\text{ mod } 129606989 = 89090032$\n",
    "- $e(343) = 343^{520381} \\text{ mod } 129606989 = 47873123$\n",
    "\n",
    "- $d(39152966) = 39152966^{3007141} \\text{ mod } 129606989 = 7$\n",
    "- $d(89090032) = 89090032^{3007141} \\text{ mod } 129606989 = 49$\n",
    "- $d(47873123) = 47873123^{3007141} \\text{ mod } 129606989 = 343$"
   ]
  },
  {
   "cell_type": "markdown",
   "metadata": {},
   "source": [
    "Q3. Devise an ElGamal scheme with $p = 11279$. Choose any two plaintext numbers and encrypt and decrypt them."
   ]
  },
  {
   "cell_type": "code",
   "execution_count": 64,
   "metadata": {},
   "outputs": [
    {
     "data": {
      "text/plain": [
       "([1, 2, 3], [(7066, 7134), (7066, 2989), (7066, 10123)], [1, 2, 3])"
      ]
     },
     "execution_count": 64,
     "metadata": {},
     "output_type": "execute_result"
    }
   ],
   "source": [
    "from math import gcd\n",
    "\n",
    "def is_coprime(a: int, b: int):\n",
    "    return gcd(a, b) == 1\n",
    "\n",
    "def get_z_s(z: int) -> set[int]:\n",
    "    return set(filter(lambda x: is_coprime(x, z), range(z)))\n",
    "\n",
    "def is_generator(x: int, z: int, z_s: set[int] | None = None, debug: bool = False):\n",
    "    if z_s is None:\n",
    "        z_s = get_z_s(z)\n",
    "    \n",
    "    if x not in z_s:\n",
    "        return False\n",
    "    \n",
    "    n: int = x\n",
    "    generated: set[int] = set([x])\n",
    "    for _ in range(len(z_s)):\n",
    "        n = (n * x) % z\n",
    "        if n in generated:\n",
    "            break\n",
    "        else:\n",
    "            generated.add(n)\n",
    "\n",
    "    if debug:\n",
    "        print(x, generated)\n",
    "    return z_s == generated\n",
    "\n",
    "def elgamal_encrypt(x: int, alpha: int, beta: int, k: int, p: int) -> tuple[int, int]:\n",
    "    return (modpow(alpha, k, p), (x*modpow(beta, k, p)) % p)\n",
    "\n",
    "def elgamal_decrypt(y1: int, y2: int, a: int, p: int) -> int:\n",
    "    _, y1_inv, _ = extended_gcd(modpow(y1, a, p), p) # calculate the inverse of y1\n",
    "    return (y2 * y1_inv) % p\n",
    "\n",
    "p = 11279\n",
    "\n",
    "alpha = 311 # verified through is_generator and modpow\n",
    "a = 2401 # i like powers of 7\n",
    "k = 3125 # i also like 5^5\n",
    "beta = modpow(alpha, a, p)\n",
    "\n",
    "xs = [1, 2, 3]\n",
    "ys = list(map(lambda x: elgamal_encrypt(x, alpha, beta, k, p), xs))\n",
    "txs = list(map(lambda y: elgamal_decrypt(*y, a, p), ys))\n",
    "\n",
    "xs, ys, txs\n"
   ]
  },
  {
   "cell_type": "markdown",
   "metadata": {},
   "source": [
    "A3. Final Parameters:\n",
    "\n",
    "- $\\alpha = 311$\n",
    "- $\\beta = 5233$\n",
    "- $a = 2401$\n",
    "- $k = 3125$\n",
    "\n",
    "Results:\n",
    "- $e(1) = (311^{3125}, 1(5233^{2401})) = (7066, 7134)$\n",
    "- $e(2) = (311^{3125}, 2(5233^{2401})) = (7066, 2989)$\n",
    "- $e(3) = (311^{3125}, 3(5233^{2401})) = (7066, 10123)$\n",
    "- $d((7066, 7134)) = (7134)(7066^{2401})^{-1} = 1$\n",
    "- $d((7066, 2989)) = (2989)(7066^{2401})^{-1} = 2$\n",
    "- $d((7066, 10123)) = (10123)(7066^{2401})^{-1} = 3$"
   ]
  }
 ],
 "metadata": {
  "kernelspec": {
   "display_name": "Python 3 (ipykernel)",
   "language": "python",
   "name": "python3"
  },
  "language_info": {
   "codemirror_mode": {
    "name": "ipython",
    "version": 3
   },
   "file_extension": ".py",
   "mimetype": "text/x-python",
   "name": "python",
   "nbconvert_exporter": "python",
   "pygments_lexer": "ipython3",
   "version": "3.11.2"
  }
 },
 "nbformat": 4,
 "nbformat_minor": 2
}
