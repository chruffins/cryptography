{
 "cells": [
  {
   "cell_type": "markdown",
   "metadata": {},
   "source": [
    "Q1. Use Euclid's algorithm to find the inverse of 31 and 9 in $Z_{1025}$."
   ]
  },
  {
   "cell_type": "code",
   "execution_count": 14,
   "metadata": {},
   "outputs": [
    {
     "name": "stdout",
     "output_type": "stream",
     "text": [
      "31 * 496 % 1025 = 1\n",
      "9 * 114 % 1025 = 1\n"
     ]
    }
   ],
   "source": [
    "def extended_gcd(a, b):\n",
    "    if a == 0:\n",
    "        return b, 0, 1\n",
    "    else:\n",
    "        g, x, y = extended_gcd(b % a, a)\n",
    "        return int(g), int(y - (b // a) * x), int(x)\n",
    "\n",
    "qa, qb = 31, 9\n",
    "qz = 1025\n",
    "_, ax, _ = extended_gcd(qa, qz)\n",
    "_, bx, _ = extended_gcd(qb, qz)\n",
    "print(f\"{qa} * {ax} % 1025 = {(qa * ax) % qz}\\n{qb} * {bx} % 1025 = {(qb * bx) % qz}\")"
   ]
  },
  {
   "cell_type": "markdown",
   "metadata": {},
   "source": [
    "A1. The inverse of 31 and 9 in $Z_{1025}$ are 496 and 114 respectively."
   ]
  },
  {
   "cell_type": "markdown",
   "metadata": {},
   "source": [
    "Q2. Find $x$ such that $x \\equiv 3$ (mod 17), $x \\equiv 9$ (mod 121), and $x \\equiv 13$ (mod 129)."
   ]
  },
  {
   "cell_type": "code",
   "execution_count": 50,
   "metadata": {},
   "outputs": [
    {
     "name": "stdout",
     "output_type": "stream",
     "text": [
      "All a_i and n_i are unique with each other.\n",
      "All n_i are coprime with each other: True\n",
      "x = 195061\n",
      "195061 % 17 == 3: True\n",
      "195061 % 121 == 9: True\n",
      "195061 % 129 == 13: True\n"
     ]
    }
   ],
   "source": [
    "from itertools import combinations\n",
    "\n",
    "def product(m: list[int]) -> int:\n",
    "    total = 1\n",
    "    for n in m:\n",
    "        total *= n\n",
    "    return int(total)\n",
    "\n",
    "def is_all_coprime(m: list[int]):\n",
    "    checks = combinations(m, 2)\n",
    "    for check in checks:\n",
    "        if extended_gcd(*check)[0] != 1:\n",
    "            return False\n",
    "    return True\n",
    "\n",
    "a = [3, 9, 13]\n",
    "n = [17, 121, 129]\n",
    "M = product(n)\n",
    "\n",
    "x = 0\n",
    "for ai, ni in zip(a, n):\n",
    "    mi = M // ni\n",
    "    si = extended_gcd(ni, mi)[2]\n",
    "    x += (ai * si * mi)\n",
    "x = x % M\n",
    "\n",
    "print(\"All a_i and n_i are unique with each other.\")\n",
    "print(f\"All n_i are coprime with each other: {is_all_coprime(n)}\")\n",
    "print(f\"x = {x}\")\n",
    "for ai, ni in zip(a, n):\n",
    "    print(f\"{x} % {ni} == {ai}: {x % ni == ai}\")"
   ]
  },
  {
   "cell_type": "markdown",
   "metadata": {},
   "source": [
    "A2. $x = 195061$"
   ]
  },
  {
   "cell_type": "markdown",
   "metadata": {},
   "source": [
    "Q3. Identify all the generators of the cyclic group $Z_{29}^*$."
   ]
  },
  {
   "cell_type": "code",
   "execution_count": 71,
   "metadata": {},
   "outputs": [
    {
     "name": "stdout",
     "output_type": "stream",
     "text": [
      "1 {1}\n",
      "2 {1, 2, 3, 4, 5, 6, 7, 8, 9, 10, 11, 12, 13, 14, 15, 16, 17, 18, 19, 20, 21, 22, 23, 24, 25, 26, 27, 28}\n",
      "3 {1, 2, 3, 4, 5, 6, 7, 8, 9, 10, 11, 12, 13, 14, 15, 16, 17, 18, 19, 20, 21, 22, 23, 24, 25, 26, 27, 28}\n",
      "4 {1, 4, 5, 6, 7, 9, 13, 16, 20, 22, 23, 24, 25, 28}\n",
      "5 {1, 4, 5, 6, 7, 9, 13, 16, 20, 22, 23, 24, 25, 28}\n",
      "6 {1, 4, 5, 6, 7, 9, 13, 16, 20, 22, 23, 24, 25, 28}\n",
      "7 {1, 7, 16, 20, 23, 24, 25}\n",
      "8 {1, 2, 3, 4, 5, 6, 7, 8, 9, 10, 11, 12, 13, 14, 15, 16, 17, 18, 19, 20, 21, 22, 23, 24, 25, 26, 27, 28}\n",
      "9 {1, 4, 5, 6, 7, 9, 13, 16, 20, 22, 23, 24, 25, 28}\n",
      "10 {1, 2, 3, 4, 5, 6, 7, 8, 9, 10, 11, 12, 13, 14, 15, 16, 17, 18, 19, 20, 21, 22, 23, 24, 25, 26, 27, 28}\n",
      "11 {1, 2, 3, 4, 5, 6, 7, 8, 9, 10, 11, 12, 13, 14, 15, 16, 17, 18, 19, 20, 21, 22, 23, 24, 25, 26, 27, 28}\n",
      "12 {17, 12, 28, 1}\n",
      "13 {1, 4, 5, 6, 7, 9, 13, 16, 20, 22, 23, 24, 25, 28}\n",
      "14 {1, 2, 3, 4, 5, 6, 7, 8, 9, 10, 11, 12, 13, 14, 15, 16, 17, 18, 19, 20, 21, 22, 23, 24, 25, 26, 27, 28}\n",
      "15 {1, 2, 3, 4, 5, 6, 7, 8, 9, 10, 11, 12, 13, 14, 15, 16, 17, 18, 19, 20, 21, 22, 23, 24, 25, 26, 27, 28}\n",
      "16 {1, 7, 16, 20, 23, 24, 25}\n",
      "17 {17, 28, 12, 1}\n",
      "18 {1, 2, 3, 4, 5, 6, 7, 8, 9, 10, 11, 12, 13, 14, 15, 16, 17, 18, 19, 20, 21, 22, 23, 24, 25, 26, 27, 28}\n",
      "19 {1, 2, 3, 4, 5, 6, 7, 8, 9, 10, 11, 12, 13, 14, 15, 16, 17, 18, 19, 20, 21, 22, 23, 24, 25, 26, 27, 28}\n",
      "20 {1, 7, 16, 20, 23, 24, 25}\n",
      "21 {1, 2, 3, 4, 5, 6, 7, 8, 9, 10, 11, 12, 13, 14, 15, 16, 17, 18, 19, 20, 21, 22, 23, 24, 25, 26, 27, 28}\n",
      "22 {1, 4, 5, 6, 7, 9, 13, 16, 20, 22, 23, 24, 25, 28}\n",
      "23 {1, 7, 16, 20, 23, 24, 25}\n",
      "24 {1, 7, 16, 20, 23, 24, 25}\n",
      "25 {1, 7, 16, 20, 23, 24, 25}\n",
      "26 {1, 2, 3, 4, 5, 6, 7, 8, 9, 10, 11, 12, 13, 14, 15, 16, 17, 18, 19, 20, 21, 22, 23, 24, 25, 26, 27, 28}\n",
      "27 {1, 2, 3, 4, 5, 6, 7, 8, 9, 10, 11, 12, 13, 14, 15, 16, 17, 18, 19, 20, 21, 22, 23, 24, 25, 26, 27, 28}\n",
      "28 {1, 28}\n"
     ]
    },
    {
     "data": {
      "text/plain": [
       "{2, 3, 8, 10, 11, 14, 15, 18, 19, 21, 26, 27}"
      ]
     },
     "execution_count": 71,
     "metadata": {},
     "output_type": "execute_result"
    }
   ],
   "source": [
    "from math import gcd\n",
    "def is_coprime(a: int, b: int):\n",
    "    return gcd(a, b) == 1\n",
    "\n",
    "def get_z_s(z: int) -> set[int]:\n",
    "    return set(filter(lambda x: is_coprime(x, z), range(z)))\n",
    "\n",
    "def is_generator(x: int, z: int, z_s: set[int] | None = None, debug: bool = False):\n",
    "    if z_s is None:\n",
    "        z_s = get_z_s(z)\n",
    "    \n",
    "    if x not in z_s:\n",
    "        return False\n",
    "    \n",
    "    n: int = x\n",
    "    generated: set[int] = set([x])\n",
    "    for _ in range(len(z_s)):\n",
    "        n = (n * x) % z\n",
    "        if n in generated:\n",
    "            break\n",
    "        else:\n",
    "            generated.add(n)\n",
    "\n",
    "    if debug:\n",
    "        print(x, generated)\n",
    "    return z_s == generated\n",
    "\n",
    "z29_s = get_z_s(29)\n",
    "generators = set(filter(lambda x: is_generator(x, 29, z29_s, debug=True), z29_s))\n",
    "generators\n"
   ]
  },
  {
   "cell_type": "markdown",
   "metadata": {},
   "source": [
    "A3. The generators of $Z_{29}^*$ are 2, 3, 8, 10, 11, 14, 15, 18, 19, 21, 26, and 27."
   ]
  },
  {
   "cell_type": "markdown",
   "metadata": {},
   "source": [
    "Q4. Let $p_1$, $p_2$, $p_3$ be three distinct prime numbers. Identify $\\phi(p_1^2)$ and $\\phi(p_1p_2p_3)$."
   ]
  },
  {
   "cell_type": "markdown",
   "metadata": {},
   "source": [
    "A4.\n",
    "\n",
    "$\\phi(p_1^2) = p_1^2 - p_1$ because out of the integers between 1 and $p_1^2$, only the multiples of $p_1$ (of which there are $p_1$) are *not* coprime with $p_1^2$.\n",
    "\n",
    "$\\phi(p_1p_2p_3) = \\phi(p_1)\\phi(p_2)\\phi(p_3) = (p_1 - 1)(p_2 - 1)(p_3 - 1)$"
   ]
  },
  {
   "cell_type": "code",
   "execution_count": 81,
   "metadata": {},
   "outputs": [
    {
     "name": "stdout",
     "output_type": "stream",
     "text": [
      "len(get_z_s(7*7))=42, (7*7)-7=42\n",
      "len(get_z_s(2*3*5))=8, 1*2*4=8\n"
     ]
    }
   ],
   "source": [
    "print(f\"{len(get_z_s(7*7))=}, {(7*7)-7=}\")\n",
    "print(f\"{len(get_z_s(2*3*5))=}, {1*2*4=}\")"
   ]
  }
 ],
 "metadata": {
  "kernelspec": {
   "display_name": "Python 3 (ipykernel)",
   "language": "python",
   "name": "python3"
  },
  "language_info": {
   "codemirror_mode": {
    "name": "ipython",
    "version": 3
   },
   "file_extension": ".py",
   "mimetype": "text/x-python",
   "name": "python",
   "nbconvert_exporter": "python",
   "pygments_lexer": "ipython3",
   "version": "3.11.2"
  }
 },
 "nbformat": 4,
 "nbformat_minor": 2
}
