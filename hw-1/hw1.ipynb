{
 "cells": [
  {
   "cell_type": "markdown",
   "metadata": {},
   "source": [
    "Q1. A student wants to build an affine cipher for an alphabet with m = 1735. How many possible key choices do they have? Provide reasoning. "
   ]
  },
  {
   "cell_type": "code",
   "execution_count": 3,
   "metadata": {},
   "outputs": [
    {
     "name": "stdout",
     "output_type": "stream",
     "text": [
      "potential_a=1384\n",
      "There are 2401240 key choices because there are 1384 numbers coprime with m=1735 that can be used as a.\n"
     ]
    }
   ],
   "source": [
    "import math\n",
    "\n",
    "def coprime(a, b):\n",
    "    return math.gcd(a, b) == 1\n",
    "\n",
    "potential_a = 0\n",
    "potential_b = 1735\n",
    "for i in range(1, 1735): \n",
    "    if coprime(i, 1735) == 1:\n",
    "        potential_a += 1\n",
    "\n",
    "print(f\"{potential_a=}\")\n",
    "print(f\"There are {potential_a * potential_b} key choices because there are {potential_a} numbers coprime with m=1735 that can be used as a.\")"
   ]
  },
  {
   "cell_type": "markdown",
   "metadata": {},
   "source": [
    "Q2. Suppose the plaintext breathtaking is mapped the ciphertext RUPOTENTOIFV by the use of a Hill cipher. Can you identify the encryption key/matrix? For the same matrix, to what does introduced get encrypted?"
   ]
  },
  {
   "cell_type": "code",
   "execution_count": 4,
   "metadata": {},
   "outputs": [
    {
     "name": "stdout",
     "output_type": "stream",
     "text": [
      "The key matrix is:\n",
      "k3=array([[ 3, 21, 20],\n",
      "       [ 4, 15, 23],\n",
      "       [ 6, 14,  5]])\n",
      "I could not find any key that satisfied m=2.\n",
      "The ciphertext of 'introduced' is ifivlbomyjli (given padding with a's)\n"
     ]
    }
   ],
   "source": [
    "import numpy as np\n",
    "\n",
    "# complexity is O(m**3) which is much better than O(m**9)! \n",
    "def get_k3(x1, x2, x3, y1, y2, y3):\n",
    "    a, b, c = -1, -1, -1\n",
    "    d, e, f = -1, -1, -1\n",
    "    g, h, i = -1, -1, -1\n",
    "\n",
    "    results = {}\n",
    "\n",
    "    for a in range(26):\n",
    "        for d in range(26):\n",
    "            for g in range(26):\n",
    "                test1 = (((x1[0]*a) + (x1[1]*d) + (x1[2]*g)) % 26)\n",
    "                test2 = (((x2[0]*a) + (x2[1]*d) + (x2[2]*g)) % 26)\n",
    "                test3 = (((x3[0]*a) + (x3[1]*d) + (x3[2]*g)) % 26)\n",
    "\n",
    "                if test1 == y1[0] and test2 == y2[0] and test3 == y3[0]:\n",
    "                    results.update({\"c1\": [a, d, g]})\n",
    "\n",
    "    for b in range(26):\n",
    "        for e in range(26):\n",
    "            for h in range(26):\n",
    "                test1 = (((x1[0]*b) + (x1[1]*e) + (x1[2]*h)) % 26)\n",
    "                test2 = (((x2[0]*b) + (x2[1]*e) + (x2[2]*h)) % 26)\n",
    "                test3 = (((x3[0]*b) + (x3[1]*e) + (x3[2]*h)) % 26)\n",
    "\n",
    "                if test1 == y1[1] and test2 == y2[1] and test3 == y3[1]:\n",
    "                    results.update({\"c2\": [b, e, h]})\n",
    "\n",
    "    for c in range(26):\n",
    "        for f in range(26):\n",
    "            for i in range(26):\n",
    "                test1 = (((x1[0]*c) + (x1[1]*f) + (x1[2]*i)) % 26)\n",
    "                test2 = (((x2[0]*c) + (x2[1]*f) + (x2[2]*i)) % 26)\n",
    "                test3 = (((x3[0]*c) + (x3[1]*f) + (x3[2]*i)) % 26)\n",
    "\n",
    "                if test1 == y1[2] and test2 == y2[2] and test3 == y3[2]:\n",
    "                    results.update({\"c3\": [c, f, i]})\n",
    "\n",
    "    if len(results) != 3: \n",
    "        return None\n",
    "    results = (results['c1'], results['c2'], results['c3'])\n",
    "    for col in results:\n",
    "        for cell in col:\n",
    "            if cell == -1:\n",
    "                return None\n",
    "    \n",
    "    return np.array(results).T\n",
    "\n",
    "#get_k(x1, x2, y1, y2)\n",
    "x31 = np.array([ord(x) - ord('a') for x in \"bre\"])\n",
    "x32 = np.array([ord(x) - ord('a') for x in \"ath\"])\n",
    "x33 = np.array([ord(x) - ord('a') for x in \"tak\"])\n",
    "x43 = np.array([ord(x) - ord('a') for x in \"ing\"])\n",
    "y31 = np.array([ord(x) - ord('a') for x in \"rup\"])\n",
    "y32 = np.array([ord(x) - ord('a') for x in \"ote\"])\n",
    "y33 = np.array([ord(x) - ord('a') for x in \"nto\"])\n",
    "y43 = np.array([ord(x) - ord('a') for x in \"ifv\"])\n",
    "\n",
    "x3 = np.array((x31, x32, x33))\n",
    "y3 = np.array((y31, y32, y33))\n",
    "#print(f\"{x3=}\")\n",
    "#print(f\"{y3=}\")\n",
    "k3 = get_k3(x31, x32, x33, y31, y32, y33)\n",
    "print(f\"The key matrix is:\\n{k3=}\\nI could not find any key that satisfied m=2.\")\n",
    "\n",
    "# This block of code verified that the key matrix was correct for the entire plaintext.\n",
    "#verifyx = [[ord(c) - ord('a') for c in x] for x in [\"bre\", \"ath\", \"tak\", \"ing\"]]\n",
    "#verifyy = []\n",
    "#for sx in verifyx:\n",
    "#    verifyy += list(map(lambda x: chr(x + ord('a')), np.matmul(sx, k3) % 26))\n",
    "#verifyy = \"\".join(verifyy)\n",
    "#print(f\"{verifyy}\")\n",
    "\n",
    "testx = [[ord(c) - ord('a') for c in x] for x in [\"int\", \"rod\", \"uce\", \"daa\"]]\n",
    "testy = []\n",
    "for sx in testx:\n",
    "    testy += list(map(lambda x: chr(x + ord('a')), np.matmul(sx, k3) % 26))\n",
    "testy = \"\".join(testy)\n",
    "print(f\"The ciphertext of 'introduced' is {testy} (given padding with a's)\")"
   ]
  },
  {
   "cell_type": "markdown",
   "metadata": {},
   "source": [
    "Q3. An affine Hill cipher is one where the relation between plaintext and ciphertext is given by y = xA + b, where A is an invertible m × m matrix over Z26 and b ∈ (Z26)m. Suppose it is known that plaintext adisplayedequation is encrypted to DSRMSIOPLXLJBZULLM. Determine the key used in this encryption scheme. What does cryptanalysisisfun get encrypted as? Then... (y-b)A^-1 = x..."
   ]
  },
  {
   "cell_type": "code",
   "execution_count": 16,
   "metadata": {},
   "outputs": [
    {
     "name": "stdout",
     "output_type": "stream",
     "text": [
      "I did not have enough time to write an algorithm that successfully performs cryptanalysis...\n",
      "My only guess was to set up the systems of equations and then bruteforce potential vector shifts.\n"
     ]
    }
   ],
   "source": [
    "x21 = np.array([ord(x) - ord('a') for x in \"ad\"])\n",
    "x22 = np.array([ord(x) - ord('a') for x in \"is\"])\n",
    "x23 = np.array([ord(x) - ord('a') for x in \"pl\"])\n",
    "y21 = np.array([ord(x) - ord('a') for x in \"ds\"])\n",
    "y22 = np.array([ord(x) - ord('a') for x in \"rm\"])\n",
    "y23 = np.array([ord(x) - ord('a') for x in \"si\"])\n",
    "\n",
    "x31 = np.array([ord(x) - ord('a') for x in \"adi\"])\n",
    "x32 = np.array([ord(x) - ord('a') for x in \"spl\"])\n",
    "x33 = np.array([ord(x) - ord('a') for x in \"aye\"])\n",
    "x34 = np.array([ord(x) - ord('a') for x in \"dqe\"])\n",
    "y31 = np.array([ord(x) - ord('a') for x in \"dsr\"])\n",
    "y32 = np.array([ord(x) - ord('a') for x in \"msi\"])\n",
    "y33 = np.array([ord(x) - ord('a') for x in \"opl\"])\n",
    "y34 = np.array([ord(x) - ord('a') for x in \"xlj\"])\n",
    "\n",
    "print(\"I did not have enough time to write an algorithm that successfully performs cryptanalysis...\")\n",
    "print(\"My only guess was to set up the systems of equations and then bruteforce potential vector shifts, but this took way too long...\")\n"
   ]
  },
  {
   "cell_type": "markdown",
   "metadata": {},
   "source": [
    "Q4. Use the SPN network details ($\\pi_S$ , $\\pi_P$ and round keys) given on Page 6 of Block Cipher Notes to encrypt $x$ = 1001 1100 0001 1111."
   ]
  },
  {
   "cell_type": "code",
   "execution_count": 6,
   "metadata": {},
   "outputs": [
    {
     "name": "stdout",
     "output_type": "stream",
     "text": [
      "Bitfield([0, 0, 1, 1, 0, 0, 1, 0, 1, 0, 0, 0, 0, 1, 0, 1], 12933)\n"
     ]
    }
   ],
   "source": [
    "class Bitfield():\n",
    "    def __init__(self, bits: list[int], length: int) -> None:\n",
    "        self.bits: list[int] = [] + bits\n",
    "        \n",
    "        if len(bits) < length:\n",
    "            self.bits = [0 for i in range(length - len(bits))] + self.bits\n",
    "\n",
    "    def __int__(self) -> int:\n",
    "        l = len(self) - 1\n",
    "        r = 0\n",
    "        for i, b in enumerate(self.bits):\n",
    "            r += 2**(l-i) * b\n",
    "        return r\n",
    "\n",
    "    def __len__(self) -> int:\n",
    "        return len(self.bits)\n",
    "    \n",
    "    def __getitem__(self, key):\n",
    "        return self.bits[key]\n",
    "    \n",
    "    def __setitem__(self, key, value):\n",
    "        self.bits[key] = value\n",
    "    \n",
    "    def __repr__(self):\n",
    "        return f\"Bitfield({repr(self.bits)}, {int(self)})\"\n",
    "    \n",
    "    def __xor__(self, other):\n",
    "        new = self.copy()\n",
    "\n",
    "        for i in range(len(self.bits)):\n",
    "            new.bits[i] ^= other.bits[i]\n",
    "        \n",
    "        return new\n",
    "    \n",
    "    def from_int(num: int, length: int):\n",
    "        return Bitfield(list(map(int, bin(num)[2:])), length)\n",
    "    \n",
    "    def from_bitfields(fields: list):\n",
    "        total_length = sum([len(f) for f in fields])\n",
    "        field = []\n",
    "        for f in fields:\n",
    "            field += f.bits\n",
    "        return Bitfield(field, total_length)\n",
    "    \n",
    "    def copy(self):\n",
    "        return Bitfield(self.bits, len(self.bits))\n",
    "    \n",
    "    def from_permute(old, mapping):\n",
    "        # dumb but this just does the p_box.\n",
    "        new = old.copy()\n",
    "        for i, b in enumerate(old, 1):\n",
    "            new[mapping[i] - 1] = b\n",
    "        return new\n",
    "\n",
    "s_box: dict[int, int] = {\n",
    "    0x0: 0xE, 0x1: 0x4, 0x2: 0xD, 0x3: 0x1,\n",
    "    0x4: 0x2, 0x5: 0xF, 0x6: 0xB, 0x7: 0x8,\n",
    "    0x8: 0x3, 0x9: 0xA, 0xA: 0x6, 0xB: 0xC,\n",
    "    0xC: 0x5, 0xD: 0x9, 0xE: 0x0, 0xF: 0x7,\n",
    "}\n",
    "\n",
    "p_box: dict[int, int] = {\n",
    "    1 : 1, 2 : 5, 3 : 9 , 4 : 13,\n",
    "    5 : 2, 6 : 6, 7 : 10, 8 : 14,\n",
    "    9 : 3, 10: 7, 11: 11, 12: 15,\n",
    "    13: 4, 14: 8, 15: 12, 16: 16\n",
    "}\n",
    "\n",
    "k = ['0011', '1010', '1001', '0100', '1101', '0110', '0011', '1111']\n",
    "\n",
    "keys = []\n",
    "for i in range(5):\n",
    "    keys.append(int(\"\".join([k[i], k[i+1], k[i+2], k[i+3]]), 2))\n",
    "\n",
    "x = Bitfield.from_int(0b1001110000011111, 16)\n",
    "\n",
    "w0 = x\n",
    "k1 = Bitfield.from_int(keys[0], 16)\n",
    "u1 = w0 ^ k1\n",
    "v1 = [Bitfield(u1[0:4], 4), Bitfield(u1[4:8], 4), Bitfield(u1[8:12], 4), Bitfield(u1[12:16], 4)]\n",
    "v1 = Bitfield.from_bitfields(list(map(Bitfield.from_int, map(s_box.get, map(int, v1)), [4 for i in range(4)])))\n",
    "w1 = Bitfield.from_permute(v1, p_box)\n",
    "\n",
    "k2 = Bitfield.from_int(keys[1], 16)\n",
    "u2 = w1 ^ k2\n",
    "v2 = [Bitfield(u2[0:4], 4), Bitfield(u2[4:8], 4), Bitfield(u2[8:12], 4), Bitfield(u2[12:16], 4)]\n",
    "v2 = Bitfield.from_bitfields(list(map(Bitfield.from_int, map(s_box.get, map(int, v2)), [4 for i in range(4)])))\n",
    "w2 = Bitfield.from_permute(v2, p_box)\n",
    "\n",
    "k3 = Bitfield.from_int(keys[2], 16)\n",
    "u3 = w2 ^ k3\n",
    "v3 = [Bitfield(u3[0:4], 4), Bitfield(u3[4:8], 4), Bitfield(u3[8:12], 4), Bitfield(u3[12:16], 4)]\n",
    "v3 = Bitfield.from_bitfields(list(map(Bitfield.from_int, map(s_box.get, map(int, v3)), [4 for i in range(4)])))\n",
    "w3 = Bitfield.from_permute(v3, p_box)\n",
    "\n",
    "k4 = Bitfield.from_int(keys[3], 16)\n",
    "u4 = w3 ^ k4\n",
    "v4 = [Bitfield(u4[0:4], 4), Bitfield(u4[4:8], 4), Bitfield(u4[8:12], 4), Bitfield(u4[12:16], 4)]\n",
    "v4 = Bitfield.from_bitfields(list(map(Bitfield.from_int, map(s_box.get, map(int, v4)), [4 for i in range(4)])))\n",
    "\n",
    "k5 = Bitfield.from_int(keys[4], 16)\n",
    "\n",
    "y = v4 ^ k5\n",
    "print(y)"
   ]
  },
  {
   "cell_type": "markdown",
   "metadata": {},
   "source": [
    "$y$ = 0011 0010 1000 0101, or 12933."
   ]
  },
  {
   "cell_type": "markdown",
   "metadata": {},
   "source": [
    "Q5. Suppose we devise an SPN with the following S-box, and with the same permutation as in Page 6 of Block Cipher Notes.\n",
    "\n",
    "a. Compute the table of NL values for this S-box"
   ]
  },
  {
   "cell_type": "code",
   "execution_count": 7,
   "metadata": {},
   "outputs": [
    {
     "name": "stdout",
     "output_type": "stream",
     "text": [
      "[[16  8  8  8  8  8  8  8  8  8  8  8  8  8  8  8]\n",
      " [ 8 10  6  8 10  8  8  6  4  6  6  8 10  8  4 10]\n",
      " [ 8 10  8 10  6  8  6  8  6  8 10  4  4  6  8 10]\n",
      " [ 8  8 10 10  8 12 10  6  6  6  8  8 10  6 12  8]\n",
      " [ 8 10  8  6  8 10  8  6 10  4 10  8  6  8  6  4]\n",
      " [ 8 12  6  6 10 10  8 12  6 10  8  8  8  8 10  6]\n",
      " [ 8  8 12  8 10 10  6 10  8  8  8 12  6  6  6 10]\n",
      " [ 8  6  6  8 12  6 10  8  8  6  6  8  4  6 10  8]\n",
      " [ 8 10 10  8  8  6  6  8 10  8  4  6 10  4  8  6]\n",
      " [ 8  8  8 12 10 10  6 10 10  6  6  6  8 12  8  8]\n",
      " [ 8 12 10 10  6  6 12  8  8  8  6 10  6 10  8  8]\n",
      " [ 8  6 12  6  8  6  8 10  4  6  8  6  8 10  8  6]\n",
      " [ 8  8 10 10 12  8 10  6  8 12 10  6  8  8  6  6]\n",
      " [ 8  6  8  6  6 12 10  8  8 10  4  6  6  8  6  8]\n",
      " [ 8  6  6 12  6  8  8 10  6  8  8 10  8  6  6  4]\n",
      " [ 8  8  8  8  8  8 12 12 10  6 10  6 10  6  6 10]]\n",
      "4\n"
     ]
    }
   ],
   "source": [
    "q5_sbox = {\n",
    "    0x0: 0x8, 0x1: 0x4, 0x2: 0x2, 0x3: 0x1,\n",
    "    0x4: 0xC, 0x5: 0x6, 0x6: 0x3, 0x7: 0xD,\n",
    "    0x8: 0xA, 0x9: 0x5, 0xA: 0xE, 0xB: 0x7,\n",
    "    0xC: 0xF, 0xD: 0xB, 0xE: 0x9, 0xF: 0x0\n",
    "}\n",
    "\n",
    "def get_lin_approx_table(s_box: dict[int, int]):\n",
    "    lin_approx = np.zeros((16, 16), dtype=np.uint8)\n",
    "    for a in range(16):\n",
    "        for b in range(16):\n",
    "            for x in range(16):\n",
    "                # xor a_i*x_i\n",
    "                if (((a & x) ^ (b & s_box[x]))).bit_count() % 2 == 0:\n",
    "                    lin_approx[a, b] += 1\n",
    "    \n",
    "    return lin_approx\n",
    "\n",
    "lin_table = get_lin_approx_table(q5_sbox)\n",
    "print(lin_table)"
   ]
  },
  {
   "cell_type": "markdown",
   "metadata": {},
   "source": [
    "b. Find a linear approximation for the following combination (as in the text/notes): $X_{16} \\oplus U^4_1 \\oplus U^4_9$"
   ]
  },
  {
   "cell_type": "code",
   "execution_count": 15,
   "metadata": {},
   "outputs": [
    {
     "name": "stdout",
     "output_type": "stream",
     "text": [
      "4\n",
      "4\n"
     ]
    }
   ],
   "source": [
    "print(lin_table[1,8])\n",
    "print(lin_table[8,10])"
   ]
  },
  {
   "cell_type": "markdown",
   "metadata": {},
   "source": [
    "From the table, (1, 8) and (8, 10) are biased pairs ($N_L$ for both is 4)\n",
    "\n",
    "So:\n",
    "- $X_{16} = U^1_{16} \\oplus V^1_{13}$\n",
    "\n",
    "- $T_1 = U^1_{16} \\oplus V^1_{13}$ (uses a = 1, b = 8)\n",
    "\n",
    "- $T_2 = U^2_4 \\oplus V^2_1$ (uses a = 1, b = 8)\n",
    "\n",
    "- $T_3 = U^3_1 \\oplus V^3_1 \\oplus V^3_3$ (uses a = 8, b = 10)\n",
    "\n",
    "- $V^3_1 \\oplus V^3_3 = U^4_1 \\oplus K^4_1 \\oplus U^4_9 \\oplus K^4_9$ (per the permutation table)\n",
    "\n",
    "Expanding these:\n",
    "- $T_1 = X_{16} \\oplus K^1_{16} \\oplus V^1_{13}$\n",
    "\n",
    "- $T_2 = V^1_{13} \\oplus K^2_4 \\oplus V^2_1$\n",
    "\n",
    "- $T_3 = V^2_1 \\oplus K^3_1 \\oplus V^3_1 \\oplus V^3_3$\n",
    "\n",
    "- $T_4 = V^3_1 \\oplus K^4_1 \\oplus V^3_3 \\oplus K^4_9$\n",
    "\n",
    "The linear approximation is $T_1 \\oplus T_2 \\oplus T_3 \\oplus T_4$ which expands to $X_{16} \\oplus K^1_{16} \\oplus K^2_4 \\oplus K^3_1 \\oplus K^4_1 \\oplus K^4_9$."
   ]
  },
  {
   "cell_type": "markdown",
   "metadata": {},
   "source": [
    "c. Describe a linear attack and the bits of keys that you can uncover with your identified linear attack"
   ]
  },
  {
   "cell_type": "markdown",
   "metadata": {},
   "source": [
    "The 5th subkey would have its first and third blocks discovered.\n",
    "\n",
    "The linear attack is described below and follows the structure of Algorithm 4.2. The difference is that I use $V^4_{<1>}$, $V^4_{<3>}$, $U^4_{<1>}$, $U^4_{<3>}$ to obtain $z = x_{16} \\oplus U^4_1 \\oplus U^4_9$."
   ]
  },
  {
   "cell_type": "markdown",
   "metadata": {},
   "source": [
    "```py\n",
    "def linear_attack(pairs: list[tuple[int, int]], s_box_inv: dict[int, int]):\n",
    "    counts = np.zeros((16, 16), dtype=np.float64)\n",
    "\n",
    "    #for a in range(16):\n",
    "        #for b in range(16):\n",
    "            #lin_approx[a,b] = 0\n",
    "    for x, y in pairs:\n",
    "        for a in range(16):\n",
    "            for b in range(16):\n",
    "                v_41 = a ^ ((y >> 12) & 0xF) # v4's 1st 4 bit block\n",
    "                v_43 = b ^ ((y >> 4) & 0xF) # v4's 3rd 4 bit block\n",
    "                u_41 = s_box_inv[v_41]\n",
    "                u_43 = s_box_inv[v_43]\n",
    "                # ugly!! so ugly.\n",
    "                z = (x & 1) ^ (u_41 >> 3 & 1) ^ (u_43 >> 3 & 1)\n",
    "                if z == 0: # requires even number of 1s\n",
    "                    counts[a, b] += 1\n",
    "\n",
    "    maxie = -1\n",
    "    maxkey = None\n",
    "    for a in range(16):\n",
    "        for b in range(16):\n",
    "            counts[a, b] = abs(counts[a, b] - (len(pairs) / 2))\n",
    "\n",
    "            if counts[a, b] > maxie:\n",
    "                maxie = counts[a, b]\n",
    "                maxkey = (a,b)\n",
    "    return maxkey\n",
    "```\n"
   ]
  }
 ],
 "metadata": {
  "kernelspec": {
   "display_name": "Python 3 (ipykernel)",
   "language": "python",
   "name": "python3"
  },
  "language_info": {
   "codemirror_mode": {
    "name": "ipython",
    "version": 3
   },
   "file_extension": ".py",
   "mimetype": "text/x-python",
   "name": "python",
   "nbconvert_exporter": "python",
   "pygments_lexer": "ipython3",
   "version": "3.11.2"
  }
 },
 "nbformat": 4,
 "nbformat_minor": 2
}
